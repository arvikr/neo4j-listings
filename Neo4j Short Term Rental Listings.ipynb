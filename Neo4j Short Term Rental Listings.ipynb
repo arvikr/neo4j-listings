{
 "cells": [
  {
   "cell_type": "markdown",
   "metadata": {},
   "source": [
    "## Short Term Rental Listings\n",
    "\n",
    "Using data from [Inside Airbnb](http://insideairbnb.com) we can model this data as a graph in Neo4j using this graph data model:\n",
    "\n",
    "![](http://guides.neo4j.com/listings/file/img/datamodel_full.png)\n",
    "\n",
    "If you haven't already, import the Listings graph by running `:play http://guides.neo4j.com/listings` in Neo4j Browser and running the import queries."
   ]
  },
  {
   "cell_type": "code",
   "execution_count": null,
   "metadata": {
    "collapsed": true
   },
   "outputs": [],
   "source": []
  },
  {
   "cell_type": "markdown",
   "metadata": {},
   "source": [
    "## Querying Neo4j from Python\n",
    "\n",
    "![](http://py2neo.org/v3/_static/py2neo-2016.260x152.png)\n",
    "We can use the [Py2neo library](http://py2neo.org/v3/database.html) for interacting with Neo4j using Python. Py2neo supports Cypher, the bolt protocol, and works nicely with many Python data science libraries."
   ]
  },
  {
   "cell_type": "code",
   "execution_count": 47,
   "metadata": {
    "collapsed": false
   },
   "outputs": [],
   "source": [
    "# pip install py2neo\n",
    "from py2neo import Graph"
   ]
  },
  {
   "cell_type": "code",
   "execution_count": 49,
   "metadata": {
    "collapsed": false
   },
   "outputs": [],
   "source": [
    "# create connection to Neo4j instance\n",
    "graph = Graph()"
   ]
  },
  {
   "cell_type": "code",
   "execution_count": 14,
   "metadata": {
    "collapsed": false
   },
   "outputs": [
    {
     "name": "stdout",
     "output_type": "stream",
     "text": [
      "('COUNT(a)': 221419)\n"
     ]
    }
   ],
   "source": [
    "result = graph.run(\"MATCH (a) RETURN COUNT(a)\")\n",
    "for r in result:\n",
    "    print(r)"
   ]
  },
  {
   "cell_type": "markdown",
   "metadata": {},
   "source": [
    "## Pandas\n",
    "\n",
    "We can use the popular [pandas](http://pandas.pydata.org/) with Neo4j. To create a DataFrame object from data from Neo4j simply pass the result object of a Cypher query into the DataFrame constructor."
   ]
  },
  {
   "cell_type": "code",
   "execution_count": 11,
   "metadata": {
    "collapsed": true
   },
   "outputs": [],
   "source": [
    "# pip install pandas\n",
    "from pandas import DataFrame"
   ]
  },
  {
   "cell_type": "code",
   "execution_count": 104,
   "metadata": {
    "collapsed": false
   },
   "outputs": [
    {
     "data": {
      "text/html": [
       "<div>\n",
       "<table border=\"1\" class=\"dataframe\">\n",
       "  <thead>\n",
       "    <tr style=\"text-align: right;\">\n",
       "      <th></th>\n",
       "      <th>amenities</th>\n",
       "      <th>name</th>\n",
       "      <th>neighborhood</th>\n",
       "      <th>price</th>\n",
       "    </tr>\n",
       "  </thead>\n",
       "  <tbody>\n",
       "    <tr>\n",
       "      <th>0</th>\n",
       "      <td>[Fire Extinguisher, Carbon Monoxide Detector, ...</td>\n",
       "      <td>Cute One Bedroom Apartment in SoCo</td>\n",
       "      <td>None</td>\n",
       "      <td>100.0</td>\n",
       "    </tr>\n",
       "    <tr>\n",
       "      <th>1</th>\n",
       "      <td>[TV, Kitchen, Free Parking on Premises, Heatin...</td>\n",
       "      <td>Private &amp; quiet; walk to the party</td>\n",
       "      <td>None</td>\n",
       "      <td>650.0</td>\n",
       "    </tr>\n",
       "    <tr>\n",
       "      <th>2</th>\n",
       "      <td>[Internet, Wireless Internet, TV, Cable TV, He...</td>\n",
       "      <td>East Side Hideaway Studio</td>\n",
       "      <td>None</td>\n",
       "      <td>75.0</td>\n",
       "    </tr>\n",
       "    <tr>\n",
       "      <th>3</th>\n",
       "      <td>[Free Parking on Premises, Kitchen, Pool, Air ...</td>\n",
       "      <td>Awesome Space with Great Amenenties</td>\n",
       "      <td>Mueller</td>\n",
       "      <td>200.0</td>\n",
       "    </tr>\n",
       "    <tr>\n",
       "      <th>4</th>\n",
       "      <td>[Essentials, Smoke Detector, Dryer, Washer, He...</td>\n",
       "      <td>1930's Vintage Bungalow off SoCo</td>\n",
       "      <td>None</td>\n",
       "      <td>173.0</td>\n",
       "    </tr>\n",
       "    <tr>\n",
       "      <th>5</th>\n",
       "      <td>[Fire Extinguisher, Essentials, Washer, Smoke ...</td>\n",
       "      <td>Home away from home in South Austin</td>\n",
       "      <td>None</td>\n",
       "      <td>50.0</td>\n",
       "    </tr>\n",
       "    <tr>\n",
       "      <th>6</th>\n",
       "      <td>[Heating, Pets Allowed, Free Parking on Premis...</td>\n",
       "      <td>Great Travis Heights location!</td>\n",
       "      <td>None</td>\n",
       "      <td>129.0</td>\n",
       "    </tr>\n",
       "    <tr>\n",
       "      <th>7</th>\n",
       "      <td>[TV, Internet, Pets Allowed, Indoor Fireplace,...</td>\n",
       "      <td>Gorgeous home 8 min from downtown</td>\n",
       "      <td>Oak Hill</td>\n",
       "      <td>165.0</td>\n",
       "    </tr>\n",
       "    <tr>\n",
       "      <th>8</th>\n",
       "      <td>[Washer, Smoke Detector, Essentials, Shampoo, ...</td>\n",
       "      <td>Private room,private bath + deer!</td>\n",
       "      <td>Northwest Hills</td>\n",
       "      <td>45.0</td>\n",
       "    </tr>\n",
       "    <tr>\n",
       "      <th>9</th>\n",
       "      <td>[Family/Kid Friendly, Essentials, Shampoo, Cab...</td>\n",
       "      <td>St.Eds Secret Casita off S.Congress</td>\n",
       "      <td>None</td>\n",
       "      <td>59.0</td>\n",
       "    </tr>\n",
       "    <tr>\n",
       "      <th>10</th>\n",
       "      <td>[Cable TV, TV, Pool, Air Conditioning, Wireles...</td>\n",
       "      <td>Cozy Apartment on S. Mopac Expy</td>\n",
       "      <td>None</td>\n",
       "      <td>300.0</td>\n",
       "    </tr>\n",
       "    <tr>\n",
       "      <th>11</th>\n",
       "      <td>[Pool, Kitchen, Gym, Elevator in Building, Hea...</td>\n",
       "      <td>Spacious Luxury Apt. 5 min walk ACL</td>\n",
       "      <td>None</td>\n",
       "      <td>480.0</td>\n",
       "    </tr>\n",
       "    <tr>\n",
       "      <th>12</th>\n",
       "      <td>[Heating, First Aid Kit, Essentials, Wireless ...</td>\n",
       "      <td>Safe, clean, and quiet</td>\n",
       "      <td>Northwest Hills</td>\n",
       "      <td>300.0</td>\n",
       "    </tr>\n",
       "    <tr>\n",
       "      <th>13</th>\n",
       "      <td>[First Aid Kit, Carbon Monoxide Detector, Esse...</td>\n",
       "      <td>Private 1 bedroom in Westlake home</td>\n",
       "      <td>Barton Hills</td>\n",
       "      <td>49.0</td>\n",
       "    </tr>\n",
       "    <tr>\n",
       "      <th>14</th>\n",
       "      <td>[TV, Internet, Wireless Internet, Air Conditio...</td>\n",
       "      <td>Queen Bed w/Bath in South Austin</td>\n",
       "      <td>None</td>\n",
       "      <td>70.0</td>\n",
       "    </tr>\n",
       "    <tr>\n",
       "      <th>15</th>\n",
       "      <td>[Smoke Detector, Carbon Monoxide Detector, Fir...</td>\n",
       "      <td>Modern Minimalism</td>\n",
       "      <td>None</td>\n",
       "      <td>390.0</td>\n",
       "    </tr>\n",
       "    <tr>\n",
       "      <th>16</th>\n",
       "      <td>[Shampoo, Essentials, Fire Extinguisher, Inter...</td>\n",
       "      <td>Cozy Apartment with Balconies</td>\n",
       "      <td>None</td>\n",
       "      <td>72.0</td>\n",
       "    </tr>\n",
       "    <tr>\n",
       "      <th>17</th>\n",
       "      <td>[Other pet(s), Wireless Internet, Internet, Pe...</td>\n",
       "      <td>EZ Camping is in SxSAustin!5</td>\n",
       "      <td>None</td>\n",
       "      <td>14.0</td>\n",
       "    </tr>\n",
       "    <tr>\n",
       "      <th>18</th>\n",
       "      <td>[Washer, Dryer, Heating, Family/Kid Friendly, ...</td>\n",
       "      <td>78704plex</td>\n",
       "      <td>None</td>\n",
       "      <td>400.0</td>\n",
       "    </tr>\n",
       "    <tr>\n",
       "      <th>19</th>\n",
       "      <td>[Cable TV, TV, Wireless Internet, Internet, Ki...</td>\n",
       "      <td>SXSW - The Holly House - SXSW</td>\n",
       "      <td>None</td>\n",
       "      <td>NaN</td>\n",
       "    </tr>\n",
       "    <tr>\n",
       "      <th>20</th>\n",
       "      <td>[Heating, Indoor Fireplace, Washer, Family/Kid...</td>\n",
       "      <td>SXSW - Central East Austin Bungalow</td>\n",
       "      <td>None</td>\n",
       "      <td>500.0</td>\n",
       "    </tr>\n",
       "    <tr>\n",
       "      <th>21</th>\n",
       "      <td>[Pets live on this property, Breakfast, Heatin...</td>\n",
       "      <td>Fab central Austin home with pool.</td>\n",
       "      <td>None</td>\n",
       "      <td>650.0</td>\n",
       "    </tr>\n",
       "    <tr>\n",
       "      <th>22</th>\n",
       "      <td>[Wireless Internet, Air Conditioning, Kitchen,...</td>\n",
       "      <td>Escape to Austin #Zilker #SXSW</td>\n",
       "      <td>None</td>\n",
       "      <td>360.0</td>\n",
       "    </tr>\n",
       "    <tr>\n",
       "      <th>23</th>\n",
       "      <td>[Essentials, Smoke Detector, Dryer, Washer, Sh...</td>\n",
       "      <td>Walkable, Charming &amp; Central Home</td>\n",
       "      <td>None</td>\n",
       "      <td>145.0</td>\n",
       "    </tr>\n",
       "    <tr>\n",
       "      <th>24</th>\n",
       "      <td>[Kitchen, Free Parking on Premises, Wireless I...</td>\n",
       "      <td>Sunny South Austin condo</td>\n",
       "      <td>None</td>\n",
       "      <td>550.0</td>\n",
       "    </tr>\n",
       "  </tbody>\n",
       "</table>\n",
       "</div>"
      ],
      "text/plain": [
       "                                            amenities  \\\n",
       "0   [Fire Extinguisher, Carbon Monoxide Detector, ...   \n",
       "1   [TV, Kitchen, Free Parking on Premises, Heatin...   \n",
       "2   [Internet, Wireless Internet, TV, Cable TV, He...   \n",
       "3   [Free Parking on Premises, Kitchen, Pool, Air ...   \n",
       "4   [Essentials, Smoke Detector, Dryer, Washer, He...   \n",
       "5   [Fire Extinguisher, Essentials, Washer, Smoke ...   \n",
       "6   [Heating, Pets Allowed, Free Parking on Premis...   \n",
       "7   [TV, Internet, Pets Allowed, Indoor Fireplace,...   \n",
       "8   [Washer, Smoke Detector, Essentials, Shampoo, ...   \n",
       "9   [Family/Kid Friendly, Essentials, Shampoo, Cab...   \n",
       "10  [Cable TV, TV, Pool, Air Conditioning, Wireles...   \n",
       "11  [Pool, Kitchen, Gym, Elevator in Building, Hea...   \n",
       "12  [Heating, First Aid Kit, Essentials, Wireless ...   \n",
       "13  [First Aid Kit, Carbon Monoxide Detector, Esse...   \n",
       "14  [TV, Internet, Wireless Internet, Air Conditio...   \n",
       "15  [Smoke Detector, Carbon Monoxide Detector, Fir...   \n",
       "16  [Shampoo, Essentials, Fire Extinguisher, Inter...   \n",
       "17  [Other pet(s), Wireless Internet, Internet, Pe...   \n",
       "18  [Washer, Dryer, Heating, Family/Kid Friendly, ...   \n",
       "19  [Cable TV, TV, Wireless Internet, Internet, Ki...   \n",
       "20  [Heating, Indoor Fireplace, Washer, Family/Kid...   \n",
       "21  [Pets live on this property, Breakfast, Heatin...   \n",
       "22  [Wireless Internet, Air Conditioning, Kitchen,...   \n",
       "23  [Essentials, Smoke Detector, Dryer, Washer, Sh...   \n",
       "24  [Kitchen, Free Parking on Premises, Wireless I...   \n",
       "\n",
       "                                   name     neighborhood  price  \n",
       "0    Cute One Bedroom Apartment in SoCo             None  100.0  \n",
       "1    Private & quiet; walk to the party             None  650.0  \n",
       "2             East Side Hideaway Studio             None   75.0  \n",
       "3   Awesome Space with Great Amenenties          Mueller  200.0  \n",
       "4      1930's Vintage Bungalow off SoCo             None  173.0  \n",
       "5   Home away from home in South Austin             None   50.0  \n",
       "6        Great Travis Heights location!             None  129.0  \n",
       "7     Gorgeous home 8 min from downtown         Oak Hill  165.0  \n",
       "8     Private room,private bath + deer!  Northwest Hills   45.0  \n",
       "9   St.Eds Secret Casita off S.Congress             None   59.0  \n",
       "10      Cozy Apartment on S. Mopac Expy             None  300.0  \n",
       "11  Spacious Luxury Apt. 5 min walk ACL             None  480.0  \n",
       "12               Safe, clean, and quiet  Northwest Hills  300.0  \n",
       "13   Private 1 bedroom in Westlake home     Barton Hills   49.0  \n",
       "14     Queen Bed w/Bath in South Austin             None   70.0  \n",
       "15                   Modern Minimalism              None  390.0  \n",
       "16        Cozy Apartment with Balconies             None   72.0  \n",
       "17         EZ Camping is in SxSAustin!5             None   14.0  \n",
       "18                            78704plex             None  400.0  \n",
       "19        SXSW - The Holly House - SXSW             None    NaN  \n",
       "20  SXSW - Central East Austin Bungalow             None  500.0  \n",
       "21   Fab central Austin home with pool.             None  650.0  \n",
       "22       Escape to Austin #Zilker #SXSW             None  360.0  \n",
       "23    Walkable, Charming & Central Home             None  145.0  \n",
       "24             Sunny South Austin condo             None  550.0  "
      ]
     },
     "execution_count": 104,
     "metadata": {},
     "output_type": "execute_result"
    }
   ],
   "source": [
    "DataFrame(graph.data(\"MATCH (n:Neighborhood)<-[:IN_NEIGHBORHOOD]-(l:Listing)-[:HAS]->(a:Amenity) RETURN n.name AS neighborhood, l.name AS name, COLLECT(a.name) AS amenities, l.price AS price LIMIT 25\"))"
   ]
  },
  {
   "cell_type": "code",
   "execution_count": null,
   "metadata": {
    "collapsed": true
   },
   "outputs": [],
   "source": []
  },
  {
   "cell_type": "code",
   "execution_count": 62,
   "metadata": {
    "collapsed": false
   },
   "outputs": [
    {
     "data": {
      "text/html": [
       "<div>\n",
       "<table border=\"1\" class=\"dataframe\">\n",
       "  <thead>\n",
       "    <tr style=\"text-align: right;\">\n",
       "      <th></th>\n",
       "      <th>avg_price</th>\n",
       "      <th>neighborhood</th>\n",
       "      <th>zip</th>\n",
       "    </tr>\n",
       "  </thead>\n",
       "  <tbody>\n",
       "    <tr>\n",
       "      <th>0</th>\n",
       "      <td>391.473684</td>\n",
       "      <td>Steiner Ranch</td>\n",
       "      <td>78732</td>\n",
       "    </tr>\n",
       "    <tr>\n",
       "      <th>1</th>\n",
       "      <td>316.593939</td>\n",
       "      <td>Barton Hills</td>\n",
       "      <td>78746</td>\n",
       "    </tr>\n",
       "    <tr>\n",
       "      <th>2</th>\n",
       "      <td>299.970822</td>\n",
       "      <td>Tarrytown</td>\n",
       "      <td>78703</td>\n",
       "    </tr>\n",
       "    <tr>\n",
       "      <th>3</th>\n",
       "      <td>273.533333</td>\n",
       "      <td>None</td>\n",
       "      <td>78725</td>\n",
       "    </tr>\n",
       "    <tr>\n",
       "      <th>4</th>\n",
       "      <td>266.297720</td>\n",
       "      <td>St. Edwards</td>\n",
       "      <td>78704</td>\n",
       "    </tr>\n",
       "    <tr>\n",
       "      <th>5</th>\n",
       "      <td>265.039370</td>\n",
       "      <td>Govalle</td>\n",
       "      <td>78702</td>\n",
       "    </tr>\n",
       "    <tr>\n",
       "      <th>6</th>\n",
       "      <td>258.250000</td>\n",
       "      <td>None</td>\n",
       "      <td>78734</td>\n",
       "    </tr>\n",
       "    <tr>\n",
       "      <th>7</th>\n",
       "      <td>257.252427</td>\n",
       "      <td>Rosedale</td>\n",
       "      <td>78731</td>\n",
       "    </tr>\n",
       "    <tr>\n",
       "      <th>8</th>\n",
       "      <td>251.645833</td>\n",
       "      <td>Downtown</td>\n",
       "      <td>78701</td>\n",
       "    </tr>\n",
       "    <tr>\n",
       "      <th>9</th>\n",
       "      <td>240.000000</td>\n",
       "      <td>None</td>\n",
       "      <td>78735</td>\n",
       "    </tr>\n",
       "  </tbody>\n",
       "</table>\n",
       "</div>"
      ],
      "text/plain": [
       "    avg_price   neighborhood    zip\n",
       "0  391.473684  Steiner Ranch  78732\n",
       "1  316.593939   Barton Hills  78746\n",
       "2  299.970822      Tarrytown  78703\n",
       "3  273.533333           None  78725\n",
       "4  266.297720    St. Edwards  78704\n",
       "5  265.039370        Govalle  78702\n",
       "6  258.250000           None  78734\n",
       "7  257.252427       Rosedale  78731\n",
       "8  251.645833       Downtown  78701\n",
       "9  240.000000           None  78735"
      ]
     },
     "execution_count": 62,
     "metadata": {},
     "output_type": "execute_result"
    }
   ],
   "source": [
    "# What are the most expensive neighborhoods?\n",
    "avg_zips = DataFrame(graph.data('''\n",
    "MATCH (l:Listing)-[:IN_NEIGHBORHOOD]->(n:Neighborhood)\n",
    "WITH n, avg(l.price) AS avg_price\n",
    "RETURN n.neighborhood_id AS zip, n.name AS neighborhood, avg_price ORDER BY avg_price DESC LIMIT 10\n",
    "'''))\n",
    "\n",
    "avg_zips"
   ]
  },
  {
   "cell_type": "code",
   "execution_count": null,
   "metadata": {
    "collapsed": false
   },
   "outputs": [],
   "source": []
  },
  {
   "cell_type": "code",
   "execution_count": null,
   "metadata": {
    "collapsed": true
   },
   "outputs": [],
   "source": []
  },
  {
   "cell_type": "markdown",
   "metadata": {},
   "source": [
    "## Plotting\n",
    "\n"
   ]
  },
  {
   "cell_type": "code",
   "execution_count": 58,
   "metadata": {
    "collapsed": true
   },
   "outputs": [],
   "source": [
    "%matplotlib inline"
   ]
  },
  {
   "cell_type": "code",
   "execution_count": 64,
   "metadata": {
    "collapsed": false
   },
   "outputs": [
    {
     "data": {
      "text/plain": [
       "<matplotlib.axes._subplots.AxesSubplot at 0x11af2f160>"
      ]
     },
     "execution_count": 64,
     "metadata": {},
     "output_type": "execute_result"
    },
    {
     "data": {
      "image/png": "[encoded data removed]",
      "text/plain": [
       "<matplotlib.figure.Figure at 0x11a0c3278>"
      ]
     },
     "metadata": {},
     "output_type": "display_data"
    }
   ],
   "source": [
    "avg_zips.plot.bar(x=\"neighborhood\")"
   ]
  },
  {
   "cell_type": "code",
   "execution_count": null,
   "metadata": {
    "collapsed": true
   },
   "outputs": [],
   "source": []
  },
  {
   "cell_type": "code",
   "execution_count": null,
   "metadata": {
    "collapsed": false
   },
   "outputs": [],
   "source": []
  },
  {
   "cell_type": "markdown",
   "metadata": {},
   "source": [
    "## NLP\n",
    "\n",
    "We have review text (\"comments\") for each review. We can apply NLP techniques such as keyword extraction and sentiment analysis to enhance our data model. We will use the [Textblob Python toolkit](https://textblob.readthedocs.io/en/dev/)"
   ]
  },
  {
   "cell_type": "code",
   "execution_count": 67,
   "metadata": {
    "collapsed": true
   },
   "outputs": [],
   "source": [
    "# pip install textblob\n",
    "from textblob import TextBlob"
   ]
  },
  {
   "cell_type": "code",
   "execution_count": 65,
   "metadata": {
    "collapsed": false
   },
   "outputs": [
    {
     "data": {
      "text/plain": [
       "'I had a great time staying here! The room is huge and sunny, and it was the perfect place to do some work and hang out in the afternoon before heading out to dinner. Alexandra and David were very welcoming hosts. They were always around to answer any questions. They had breakfast and coffee for me every morning and even left it on the table by the door on mornings when I had to rush out to the office.  The cats were really cute too!'"
      ]
     },
     "execution_count": 65,
     "metadata": {},
     "output_type": "execute_result"
    }
   ],
   "source": [
    "# fetch one review\n",
    "review = graph.run(\"MATCH (r:Review) RETURN r.comments LIMIT 1\").evaluate()\n",
    "review"
   ]
  },
  {
   "cell_type": "code",
   "execution_count": 72,
   "metadata": {
    "collapsed": false
   },
   "outputs": [
    {
     "name": "stdout",
     "output_type": "stream",
     "text": [
      "Sentiment: \n",
      "0.5375000000000001\n",
      "\n",
      "Keywords: \n",
      "['great time', 'perfect place', 'alexandra', 'david']\n"
     ]
    }
   ],
   "source": [
    "# instantiate TextBlob object\n",
    "blob = TextBlob(review)\n",
    "\n",
    "# sentiment analysis\n",
    "print (\"Sentiment: \")\n",
    "print(blob.sentiment.polarity)\n",
    "print()\n",
    "\n",
    "# keyword extraction (using noun phrases)\n",
    "print (\"Keywords: \")\n",
    "print(blob.noun_phrases)"
   ]
  },
  {
   "cell_type": "code",
   "execution_count": null,
   "metadata": {
    "collapsed": true
   },
   "outputs": [],
   "source": []
  },
  {
   "cell_type": "code",
   "execution_count": null,
   "metadata": {
    "collapsed": true
   },
   "outputs": [],
   "source": []
  },
  {
   "cell_type": "markdown",
   "metadata": {},
   "source": [
    "\n",
    "## Keyword extraction\n",
    "\n",
    "We can extend the model to include keywords extracted from the reviews:\n",
    "\n",
    "![](http://guides.neo4j.com/listings/img/datamodel_keyword.png)"
   ]
  },
  {
   "cell_type": "code",
   "execution_count": 74,
   "metadata": {
    "collapsed": false
   },
   "outputs": [],
   "source": [
    "graph.run(\"CREATE CONSTRAINT ON (k:Keyword) ASSERT k.name IS UNIQUE;\").evaluate()"
   ]
  },
  {
   "cell_type": "code",
   "execution_count": 97,
   "metadata": {
    "collapsed": false
   },
   "outputs": [],
   "source": [
    "# extract keywords and write back to graph\n",
    "reviews = graph.run(\"MATCH (r:Review)-[:REVIEWS]->(l:Listing) RETURN r.comments AS review, l.listing_id AS id LIMIT 100\")\n",
    "tx = graph.begin()\n",
    "for r in reviews:\n",
    "    blob = TextBlob(r.get(\"review\"))\n",
    "    keywords = blob.noun_phrases\n",
    "    review_id = r.get(\"id\")\n",
    "    tx.run('''\n",
    "        MATCH (l:Listing) WHERE l.listing_id = {listing_id}\n",
    "        UNWIND {keywords} AS kw\n",
    "        MERGE (k:Keyword {name: kw})\n",
    "        MERGE (l)-[:CONTAINS]->(k)\n",
    "    ''', parameters={\"listing_id\":review_id, \"keywords\":keywords})\n",
    "tx.commit()"
   ]
  },
  {
   "cell_type": "code",
   "execution_count": null,
   "metadata": {
    "collapsed": true
   },
   "outputs": [],
   "source": []
  },
  {
   "cell_type": "code",
   "execution_count": 98,
   "metadata": {
    "collapsed": false
   },
   "outputs": [
    {
     "name": "stdout",
     "output_type": "stream",
     "text": [
      " k.name             num \n",
      "------------------------\n",
      " austin             6   \n",
      " great experience   5   \n",
      " lovely home        4   \n",
      " thank              4   \n",
      " airbnb             4   \n",
      " perfect            3   \n",
      " highly             3   \n",
      " 's place           3   \n",
      " great time         3   \n",
      " excellent          3   \n",
      " thanks             3   \n",
      " great host         3   \n",
      " private bathroom   2   \n",
      " cable tv           2   \n",
      " amazing place      2   \n",
      " wonderful hosts    2   \n",
      " late arrival       2   \n",
      " safe neighborhood  2   \n",
      " clean              2   \n",
      " friendly dog       2   \n",
      " communication      2   \n",
      " host               2   \n",
      " hosts              2   \n",
      " studio apartment   2   \n",
      " carol              2   \n"
     ]
    }
   ],
   "source": [
    "# What is the most common Keyword?\n",
    "graph.run(\"MATCH (l:Listing)-[:CONTAINS]->(k:Keyword) RETURN k.name, COUNT(*) AS num ORDER BY num DESC LIMIT 25\").dump()"
   ]
  },
  {
   "cell_type": "code",
   "execution_count": null,
   "metadata": {
    "collapsed": true
   },
   "outputs": [],
   "source": []
  },
  {
   "cell_type": "code",
   "execution_count": null,
   "metadata": {
    "collapsed": true
   },
   "outputs": [],
   "source": []
  },
  {
   "cell_type": "markdown",
   "metadata": {},
   "source": [
    "## Community Detection\n",
    "\n",
    "Community detection (or clustering) can be used to enhance our data model, by identifying similar listings based on extracted keywords.\n",
    "![](http://www.lyonwj.com/public/img/community-1.png)"
   ]
  },
  {
   "cell_type": "code",
   "execution_count": 86,
   "metadata": {
    "collapsed": false
   },
   "outputs": [],
   "source": [
    "# pip3 install python-igraph\n",
    "from igraph import Graph as IGraph"
   ]
  },
  {
   "cell_type": "markdown",
   "metadata": {},
   "source": [
    "Find all pairs of topics and find the number of common groups that share each pair of topics. We'll use this as weight to build a \"virtual graph\" of the form(Topic)-[:OCCURS_WITH {weight}]-(Topic)\n"
   ]
  },
  {
   "cell_type": "code",
   "execution_count": 99,
   "metadata": {
    "collapsed": false
   },
   "outputs": [
    {
     "name": "stdout",
     "output_type": "stream",
     "text": [
      "('k.name': 'austin', 'other.name': 'airbnb', 'weight': 4)\n",
      "('k.name': 'austin', 'other.name': 'thank', 'weight': 4)\n",
      "('k.name': 'austin', 'other.name': 'lovely home', 'weight': 4)\n",
      "('k.name': 'thank', 'other.name': 'great experience', 'weight': 3)\n",
      "('k.name': 'thank', 'other.name': 'airbnb', 'weight': 3)\n",
      "('k.name': 'thank', 'other.name': 'lovely home', 'weight': 3)\n",
      "('k.name': 'austin', 'other.name': 'great experience', 'weight': 3)\n",
      "('k.name': 'lovely home', 'other.name': 'airbnb', 'weight': 3)\n",
      "('k.name': 'thanks', 'other.name': 'great experience', 'weight': 3)\n",
      "('k.name': 'excellent', 'other.name': 'highly', 'weight': 3)\n",
      "('k.name': 'great experience', 'other.name': 'perfect', 'weight': 3)\n",
      "('k.name': \"'s place\", 'other.name': 'clean', 'weight': 2)\n",
      "('k.name': 'thank', 'other.name': 'great time', 'weight': 2)\n",
      "('k.name': 'wonderful hosts', 'other.name': 'great experience', 'weight': 2)\n",
      "('k.name': 'great experience', 'other.name': 'studio apartment', 'weight': 2)\n",
      "('k.name': 'thanks', 'other.name': 'perfect', 'weight': 2)\n",
      "('k.name': \"'s place\", 'other.name': 'communication', 'weight': 2)\n",
      "('k.name': 'austin', 'other.name': 'highly', 'weight': 2)\n",
      "('k.name': 'great time', 'other.name': 'thanks', 'weight': 2)\n",
      "('k.name': 'airbnb', 'other.name': 'highly', 'weight': 2)\n",
      "('k.name': 'great experience', 'other.name': 'excellent', 'weight': 2)\n",
      "('k.name': 'austin', 'other.name': 'great host', 'weight': 2)\n",
      "('k.name': 'thank', 'other.name': 'thanks', 'weight': 2)\n",
      "('k.name': 'studio apartment', 'other.name': 'excellent', 'weight': 2)\n",
      "('k.name': 'great time', 'other.name': 'great experience', 'weight': 2)\n"
     ]
    }
   ],
   "source": [
    "query = \"\"\"\n",
    "MATCH (k:Keyword)<-[:CONTAINS]-(:Listing)-[:CONTAINS]->(other:Keyword)\n",
    "WHERE ID(k) < ID(other)\n",
    "RETURN k.name, other.name, COUNT(*) AS weight\n",
    "ORDER BY weight DESC\n",
    "LIMIT 25\n",
    "\"\"\"\n",
    "\n",
    "result = graph.run(query)\n",
    "for row in result:\n",
    "    print(row)"
   ]
  },
  {
   "cell_type": "code",
   "execution_count": 100,
   "metadata": {
    "collapsed": false
   },
   "outputs": [
    {
     "data": {
      "text/plain": [
       "<igraph.Graph at 0x118431c78>"
      ]
     },
     "execution_count": 100,
     "metadata": {},
     "output_type": "execute_result"
    }
   ],
   "source": [
    "query = \"\"\"\n",
    "MATCH (k:Keyword)<-[:CONTAINS]-(:Listing)-[:CONTAINS]->(other:Keyword)\n",
    "WHERE ID(k) < ID(other)\n",
    "RETURN k.name, other.name, COUNT(*) AS weight\n",
    "\"\"\"\n",
    "\n",
    "ig = IGraph.TupleList(graph.run(query), weights=True)\n",
    "ig"
   ]
  },
  {
   "cell_type": "markdown",
   "metadata": {},
   "source": [
    "Now we'll run the Walktrap community detection algorithm to find clusters / communities:\n"
   ]
  },
  {
   "cell_type": "code",
   "execution_count": 101,
   "metadata": {
    "collapsed": false
   },
   "outputs": [
    {
     "data": {
      "text/plain": [
       "10"
      ]
     },
     "execution_count": 101,
     "metadata": {},
     "output_type": "execute_result"
    }
   ],
   "source": [
    "clusters = IGraph.community_walktrap(ig, weights=\"weight\")\n",
    "clusters = clusters.as_clustering()\n",
    "len(clusters)"
   ]
  },
  {
   "cell_type": "code",
   "execution_count": 102,
   "metadata": {
    "collapsed": false
   },
   "outputs": [
    {
     "data": {
      "text/plain": [
       "[{'group': 0,\n",
       "  'id': 'geen uitgebreid openbaar vervoer heeft',\n",
       "  'label': 'geen uitgebreid openbaar vervoer heeft'},\n",
       " {'group': 0, 'id': 'bat fest', 'label': 'bat fest'},\n",
       " {'group': 1, 'id': 'great host', 'label': 'great host'},\n",
       " {'group': 2, 'id': 'church building', 'label': 'church building'},\n",
       " {'group': 0, 'id': 'own private bathroom', 'label': 'own private bathroom'}]"
      ]
     },
     "execution_count": 102,
     "metadata": {},
     "output_type": "execute_result"
    }
   ],
   "source": [
    "nodes = [node[\"name\"] for node in ig.vs]\n",
    "nodes = [{\"id\": x, \"label\": x} for x in nodes]\n",
    "nodes[:5]\n",
    "\n",
    "for node in nodes:\n",
    "    idx = ig.vs.find(name=node[\"id\"]).index\n",
    "    node[\"group\"] = clusters.membership[idx]\n",
    "    \n",
    "nodes[:5]"
   ]
  },
  {
   "cell_type": "code",
   "execution_count": null,
   "metadata": {
    "collapsed": true
   },
   "outputs": [],
   "source": [
    "query = \"\"\"\n",
    "UNWIND {params} AS p \n",
    "MATCH (t:Keyword {name: p.id}) \n",
    "MERGE (cluster:Cluster {name: p.group})\n",
    "MERGE (t)-[:IN_CLUSTER]->(cluster)\n",
    "\"\"\"\n",
    "\n",
    "graph.run(query, params = nodes)"
   ]
  },
  {
   "cell_type": "code",
   "execution_count": null,
   "metadata": {
    "collapsed": true
   },
   "outputs": [],
   "source": []
  },
  {
   "cell_type": "markdown",
   "metadata": {},
   "source": [
    "### Sentiment Analysis"
   ]
  },
  {
   "cell_type": "code",
   "execution_count": 114,
   "metadata": {
    "collapsed": false
   },
   "outputs": [],
   "source": [
    "# compute sentiment and write back to the graph\n",
    "reviews = graph.run(\"MATCH (r:Review) RETURN r.comments AS review, r.review_id AS id LIMIT 100\")\n",
    "tx = graph.begin()\n",
    "for r in reviews:\n",
    "    blob = TextBlob(r.get(\"review\"))\n",
    "    sentiment = blob.sentiment.polarity\n",
    "    review_id = r.get(\"id\")\n",
    "    tx.run('''\n",
    "        MATCH (r:Review) WHERE r.review_id = {review_id}\n",
    "        SET r.rating = {sentiment}\n",
    "    ''', parameters={\"review_id\":review_id, \"sentiment\":sentiment})\n",
    "tx.commit()"
   ]
  },
  {
   "cell_type": "code",
   "execution_count": 117,
   "metadata": {
    "collapsed": false
   },
   "outputs": [
    {
     "data": {
      "text/plain": [
       "[{'r': (ca71fb6:Review {comments:\"My husband and I did not actually meet Natalie in person, but we did maintain contact through texts. The photos represented her place very well. The proximity of her house was so convenient for everything we did in Austin.\",date:\"2015-07-26\",rating:0.1,review_id:\"39883571\"})},\n",
       " {'r': (f75a98c:Review {comments:\"Very nice host. House is in a great location on a cul-de-sac on a quiet street. The area you'll stay is in a converted storage shed that has a bunch of beds and a small bathroom with a shower. It's comfortable enough for a crash pad, but a little cramped otherwise. The house had essentially no kitchen utensils when I stayed, although the listing said it was fully furnished. Apparently Nick's roommate moved out a few days before we came and took it all with him. The house has a fraternity house feel with a bunch of beer cans, cups, and other party materials scattered about. It left a bit to be desired in that aspect. Overall, it's fine for a place to sleep a bunch of people, but I wouldn't want to hang out at the house.\",date:\"2015-07-18\",rating:0.12029761904761906,review_id:\"38775887\"})},\n",
       " {'r': (acea79c:Review {comments:\"Monica was a lovely host. Her cute little free-standing, private cottage was just what we wanted.  It was quiet,  in a nice neighborhood and had all the essentials: comfortable queen-sized bed, real blanket and comforter (becoming scarcer and scarcer in hotels, but I appreciate them!), \\\"dorm sized\\\" fridge with a little freezer, hot water kettle for making tea, coffee, instant oatmeal, etc.  The bathroom was very small, but clean, and functional. The garden was lovely and she has a hot tub which guests can use, but we didn't use either--we were out early and in late every day.  The internet worked great--until AT&T itself went down.  Monica then spent an hour on the phone with them to get them back up, as we had a couple of urgent emails to end.  (Thanks, Monica!)\\r\\n\\r\\nWe had a bit of trouble reaching Monica by email initially, but we did finally succeed and then found that if contacted by text, she responds within seconds!  We had a great stay!\",date:\"2015-04-14\",rating:0.1547542735042735,review_id:\"29930258\"})},\n",
       " {'r': (dd6d8c9:Review {comments:\"Monica and Greg are the hosts with the mosts!!!! They are Austinites through and through with great recommendations on where to eat, music venues, festivals, and hot spots not to be missed. Their warmth is the first thing you feel when entering this hidden gem in Hyde Park.\\r\\n\\r\\nOur private cottage was nestled in the trees and was appointed with lovely ammenities.  We had fluffy white towels, a fridge stocked with beer and Topochico, as well as snacks for when we were on the go! I will definately stay here again and would higly recommend it to future guests!\",date:\"2015-04-28\",rating:0.15925925925925927,review_id:\"30877089\"})},\n",
       " {'r': (cf568ac:Review {comments:\"Great little cottage behind the main house. Monica was quick to respond, accommodating with check-in and check-out, and all around set the cottage up to be very guest-ready (super clean, tea and snacks provided, as well as bathroom amenities!) The bus downtown was also conveniently located just a block or so away, as were some local eats like a vegan food trailer park! Only thing to note was that during my stay the internet was a bit weak/spotty (not an issue for me, but if you needed to get some work done may need to ensure there would be a stable). connection)\",date:\"2014-03-12\",rating:0.17041666666666666,review_id:\"10901651\"})}]"
      ]
     },
     "execution_count": 117,
     "metadata": {},
     "output_type": "execute_result"
    }
   ],
   "source": [
    "graph.run(\"MATCH (r:Review) RETURN r ORDER BY r.rating ASC LIMIT 5\").da"
   ]
  },
  {
   "cell_type": "code",
   "execution_count": null,
   "metadata": {
    "collapsed": true
   },
   "outputs": [],
   "source": []
  },
  {
   "cell_type": "markdown",
   "metadata": {},
   "source": [
    "## Recommendations"
   ]
  },
  {
   "cell_type": "markdown",
   "metadata": {},
   "source": [
    "## Concept Graph"
   ]
  },
  {
   "cell_type": "code",
   "execution_count": null,
   "metadata": {
    "collapsed": true
   },
   "outputs": [],
   "source": []
  }
 ],
 "metadata": {
  "kernelspec": {
   "display_name": "Python 3",
   "language": "python",
   "name": "python3"
  },
  "language_info": {
   "codemirror_mode": {
    "name": "ipython",
    "version": 3
   },
   "file_extension": ".py",
   "mimetype": "text/x-python",
   "name": "python",
   "nbconvert_exporter": "python",
   "pygments_lexer": "ipython3",
   "version": "3.6.0"
  }
 },
 "nbformat": 4,
 "nbformat_minor": 2
}
